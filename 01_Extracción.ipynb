{
 "cells": [
  {
   "cell_type": "markdown",
   "id": "7c108796",
   "metadata": {},
   "source": [
    "<p style=\"font-size:25px; color:#496595\"> ¿Qué se hará? </p>\n",
    "\n",
    "><b>En esta sección se llevan a cabo dos pasos clave:</b>\n",
    ">- <b>Extracción de datos alojados en Google Sheets:</b>\n",
    "En esta etapa, se accede y se extraen los datos almacenados en una hoja de cálculo de Google Sheets. Esto implica establecer la conexión con la hoja de cálculo utilizando las credenciales adecuadas y la API de Google Sheets, y luego recuperar los datos necesarios para su posterior análisis.\n",
    "\n",
    ">- <b>Entendimiento o exploración de los datos:</b>\n",
    "En esta fase, se realiza un análisis inicial de los datos extraídos para obtener una comprensión más profunda de su estructura, contenido y calidad. Se exploran las diferentes variables presentes en los datos, se identifican valores atípicos o faltantes. Este proceso ayuda a descubrir posibles problemas en los datos, lo que orientará las decisiones posteriores de limpieza, transformación y análisis.</b>\n",
    "\n"
   ]
  },
  {
   "cell_type": "markdown",
   "id": "76d89993",
   "metadata": {},
   "source": [
    "<p style=\"font-size:25px; color:#496595\">Sobre el conjunto de datos</p>\n",
    "\n",
    "> Este conjunto de datos pertenece a una tienda global estadounidense que ofrece sus productos en más de 520 ciudades y 49 estados. La tienda se especializa en la venta de una amplia variedad de productos, incluyendo muebles, suministros de oficina y tecnología, como teléfonos y electrodomésticos.\n",
    "\n",
    ">Los datos recopilados abarcan un período de tres años, desde 2015 hasta 2018. Algunos de los campos incluidos en el conjunto de datos son: fechas de pedido y entrega, modo de envío, nombres de clientes, país, ciudad, región, nombre del producto, categoría, subcategoría, segmento y ventas."
   ]
  },
  {
   "cell_type": "markdown",
   "id": "11e99956",
   "metadata": {},
   "source": [
    "<p style=\"font-size:25px; color:#496595\">1. Extracción</p>\n"
   ]
  },
  {
   "cell_type": "code",
   "execution_count": 14,
   "id": "1bf509ea",
   "metadata": {},
   "outputs": [],
   "source": [
    "#%pip install gspread-pandas oauth2client #Instalación de libreria para obtener datos de google sheets\n",
    "\n",
    "#==== Importación de librerias a usar ====\n",
    "import pandas as pd\n",
    "import gspread_pandas as gpd #biblioteca que simplifica la integración entre Pandas y Google Sheets para extracción de datos\n",
    "import re"
   ]
  },
  {
   "cell_type": "code",
   "execution_count": 6,
   "id": "79fcdc52",
   "metadata": {},
   "outputs": [],
   "source": [
    "#==== Extrayendo datos de google sheet ====\n",
    "#Conexión a los datos alojados en google sheets, mas info de como hacer conexión en https://www.youtube.com/watch?v=jeZWv5PQJAk\n",
    "gc = gpd.Spread('https://docs.google.com/spreadsheets/d/1ZZLYXQNGYOsFoiW8viTRKy-WCF8TPfpFF6UlHrMMvDw/edit?usp=sharing')\n",
    "gc.open_sheet('Train')\n",
    "df = gc.sheet_to_df() #Dataframe contenedor de los datos\n",
    "df=df.reset_index()"
   ]
  },
  {
   "cell_type": "markdown",
   "id": "2505b016",
   "metadata": {},
   "source": [
    "<p style=\"font-size:25px; color:#496595\">2. Exploración de datos</p>\n",
    "\n"
   ]
  },
  {
   "cell_type": "code",
   "execution_count": 7,
   "id": "40c0968a",
   "metadata": {},
   "outputs": [
    {
     "data": {
      "text/html": [
       "<div>\n",
       "<style scoped>\n",
       "    .dataframe tbody tr th:only-of-type {\n",
       "        vertical-align: middle;\n",
       "    }\n",
       "\n",
       "    .dataframe tbody tr th {\n",
       "        vertical-align: top;\n",
       "    }\n",
       "\n",
       "    .dataframe thead th {\n",
       "        text-align: right;\n",
       "    }\n",
       "</style>\n",
       "<table border=\"1\" class=\"dataframe\">\n",
       "  <thead>\n",
       "    <tr style=\"text-align: right;\">\n",
       "      <th></th>\n",
       "      <th>Row ID</th>\n",
       "      <th>Order ID</th>\n",
       "      <th>Order Date</th>\n",
       "      <th>Ship Date</th>\n",
       "      <th>Ship Mode</th>\n",
       "      <th>Customer ID</th>\n",
       "      <th>Customer Name</th>\n",
       "      <th>Segment</th>\n",
       "      <th>Country</th>\n",
       "      <th>City</th>\n",
       "      <th>State</th>\n",
       "      <th>Postal Code</th>\n",
       "      <th>Region</th>\n",
       "      <th>Product ID</th>\n",
       "      <th>Category</th>\n",
       "      <th>Sub-Category</th>\n",
       "      <th>Product Name</th>\n",
       "      <th>Sales</th>\n",
       "    </tr>\n",
       "  </thead>\n",
       "  <tbody>\n",
       "    <tr>\n",
       "      <th>0</th>\n",
       "      <td>1</td>\n",
       "      <td>CA-2017-152156</td>\n",
       "      <td>08/11/2017</td>\n",
       "      <td>11/11/2017</td>\n",
       "      <td>Second Class</td>\n",
       "      <td>CG-12520</td>\n",
       "      <td>Claire Gute</td>\n",
       "      <td>Consumer</td>\n",
       "      <td>United States</td>\n",
       "      <td>Henderson</td>\n",
       "      <td>Kentucky</td>\n",
       "      <td>42420</td>\n",
       "      <td>South</td>\n",
       "      <td>FUR-BO-10001798</td>\n",
       "      <td>Furniture</td>\n",
       "      <td>Bookcases</td>\n",
       "      <td>Bush Somerset Collection Bookcase</td>\n",
       "      <td>261.96</td>\n",
       "    </tr>\n",
       "    <tr>\n",
       "      <th>1</th>\n",
       "      <td>2</td>\n",
       "      <td>CA-2017-152156</td>\n",
       "      <td>08/11/2017</td>\n",
       "      <td>11/11/2017</td>\n",
       "      <td>Second Class</td>\n",
       "      <td>CG-12520</td>\n",
       "      <td>Claire Gute</td>\n",
       "      <td>Consumer</td>\n",
       "      <td>United States</td>\n",
       "      <td>Henderson</td>\n",
       "      <td>Kentucky</td>\n",
       "      <td>42420</td>\n",
       "      <td>South</td>\n",
       "      <td>FUR-CH-10000454</td>\n",
       "      <td>Furniture</td>\n",
       "      <td>Chairs</td>\n",
       "      <td>Hon Deluxe Fabric Upholstered Stacking Chairs,...</td>\n",
       "      <td>731.94</td>\n",
       "    </tr>\n",
       "    <tr>\n",
       "      <th>2</th>\n",
       "      <td>3</td>\n",
       "      <td>CA-2017-138688</td>\n",
       "      <td>12/06/2017</td>\n",
       "      <td>16/06/2017</td>\n",
       "      <td>Second Class</td>\n",
       "      <td>DV-13045</td>\n",
       "      <td>Darrin Van Huff</td>\n",
       "      <td>Corporate</td>\n",
       "      <td>United States</td>\n",
       "      <td>Los Angeles</td>\n",
       "      <td>California</td>\n",
       "      <td>90036</td>\n",
       "      <td>West</td>\n",
       "      <td>OFF-LA-10000240</td>\n",
       "      <td>Office Supplies</td>\n",
       "      <td>Labels</td>\n",
       "      <td>Self-Adhesive Address Labels for Typewriters b...</td>\n",
       "      <td>14.62</td>\n",
       "    </tr>\n",
       "    <tr>\n",
       "      <th>3</th>\n",
       "      <td>4</td>\n",
       "      <td>US-2016-108966</td>\n",
       "      <td>11/10/2016</td>\n",
       "      <td>18/10/2016</td>\n",
       "      <td>Standard Class</td>\n",
       "      <td>SO-20335</td>\n",
       "      <td>Sean O'Donnell</td>\n",
       "      <td>Consumer</td>\n",
       "      <td>United States</td>\n",
       "      <td>Fort Lauderdale</td>\n",
       "      <td>Florida</td>\n",
       "      <td>33311</td>\n",
       "      <td>South</td>\n",
       "      <td>FUR-TA-10000577</td>\n",
       "      <td>Furniture</td>\n",
       "      <td>Tables</td>\n",
       "      <td>Bretford CR4500 Series Slim Rectangular Table</td>\n",
       "      <td>9.575.775</td>\n",
       "    </tr>\n",
       "    <tr>\n",
       "      <th>4</th>\n",
       "      <td>5</td>\n",
       "      <td>US-2016-108966</td>\n",
       "      <td>11/10/2016</td>\n",
       "      <td>18/10/2016</td>\n",
       "      <td>Standard Class</td>\n",
       "      <td>SO-20335</td>\n",
       "      <td>Sean O'Donnell</td>\n",
       "      <td>Consumer</td>\n",
       "      <td>United States</td>\n",
       "      <td>Fort Lauderdale</td>\n",
       "      <td>Florida</td>\n",
       "      <td>33311</td>\n",
       "      <td>South</td>\n",
       "      <td>OFF-ST-10000760</td>\n",
       "      <td>Office Supplies</td>\n",
       "      <td>Storage</td>\n",
       "      <td>Eldon Fold 'N Roll Cart System</td>\n",
       "      <td>22.368</td>\n",
       "    </tr>\n",
       "  </tbody>\n",
       "</table>\n",
       "</div>"
      ],
      "text/plain": [
       "  Row ID        Order ID  Order Date   Ship Date       Ship Mode Customer ID  \\\n",
       "0      1  CA-2017-152156  08/11/2017  11/11/2017    Second Class    CG-12520   \n",
       "1      2  CA-2017-152156  08/11/2017  11/11/2017    Second Class    CG-12520   \n",
       "2      3  CA-2017-138688  12/06/2017  16/06/2017    Second Class    DV-13045   \n",
       "3      4  US-2016-108966  11/10/2016  18/10/2016  Standard Class    SO-20335   \n",
       "4      5  US-2016-108966  11/10/2016  18/10/2016  Standard Class    SO-20335   \n",
       "\n",
       "     Customer Name    Segment        Country             City       State  \\\n",
       "0      Claire Gute   Consumer  United States        Henderson    Kentucky   \n",
       "1      Claire Gute   Consumer  United States        Henderson    Kentucky   \n",
       "2  Darrin Van Huff  Corporate  United States      Los Angeles  California   \n",
       "3   Sean O'Donnell   Consumer  United States  Fort Lauderdale     Florida   \n",
       "4   Sean O'Donnell   Consumer  United States  Fort Lauderdale     Florida   \n",
       "\n",
       "  Postal Code Region       Product ID         Category Sub-Category  \\\n",
       "0       42420  South  FUR-BO-10001798        Furniture    Bookcases   \n",
       "1       42420  South  FUR-CH-10000454        Furniture       Chairs   \n",
       "2       90036   West  OFF-LA-10000240  Office Supplies       Labels   \n",
       "3       33311  South  FUR-TA-10000577        Furniture       Tables   \n",
       "4       33311  South  OFF-ST-10000760  Office Supplies      Storage   \n",
       "\n",
       "                                        Product Name      Sales  \n",
       "0                  Bush Somerset Collection Bookcase     261.96  \n",
       "1  Hon Deluxe Fabric Upholstered Stacking Chairs,...     731.94  \n",
       "2  Self-Adhesive Address Labels for Typewriters b...      14.62  \n",
       "3      Bretford CR4500 Series Slim Rectangular Table  9.575.775  \n",
       "4                     Eldon Fold 'N Roll Cart System     22.368  "
      ]
     },
     "execution_count": 7,
     "metadata": {},
     "output_type": "execute_result"
    }
   ],
   "source": [
    "#=== Visualización primeras 5 filas del dataframe===\n",
    "df.head()"
   ]
  },
  {
   "cell_type": "code",
   "execution_count": 8,
   "id": "dbea9a31",
   "metadata": {},
   "outputs": [
    {
     "name": "stdout",
     "output_type": "stream",
     "text": [
      "<class 'pandas.core.frame.DataFrame'>\n",
      "RangeIndex: 9800 entries, 0 to 9799\n",
      "Data columns (total 18 columns):\n",
      " #   Column         Non-Null Count  Dtype \n",
      "---  ------         --------------  ----- \n",
      " 0   Row ID         9800 non-null   object\n",
      " 1   Order ID       9800 non-null   object\n",
      " 2   Order Date     9800 non-null   object\n",
      " 3   Ship Date      9800 non-null   object\n",
      " 4   Ship Mode      9800 non-null   object\n",
      " 5   Customer ID    9800 non-null   object\n",
      " 6   Customer Name  9800 non-null   object\n",
      " 7   Segment        9800 non-null   object\n",
      " 8   Country        9800 non-null   object\n",
      " 9   City           9800 non-null   object\n",
      " 10  State          9800 non-null   object\n",
      " 11  Postal Code    9800 non-null   object\n",
      " 12  Region         9800 non-null   object\n",
      " 13  Product ID     9800 non-null   object\n",
      " 14  Category       9800 non-null   object\n",
      " 15  Sub-Category   9800 non-null   object\n",
      " 16  Product Name   9800 non-null   object\n",
      " 17  Sales          9800 non-null   object\n",
      "dtypes: object(18)\n",
      "memory usage: 1.3+ MB\n"
     ]
    }
   ],
   "source": [
    "#===Información sobre el dataframe ===\n",
    "df.info()"
   ]
  },
  {
   "cell_type": "code",
   "execution_count": 9,
   "id": "4300003b",
   "metadata": {},
   "outputs": [
    {
     "data": {
      "text/plain": [
       "(9800, 18)"
      ]
     },
     "execution_count": 9,
     "metadata": {},
     "output_type": "execute_result"
    }
   ],
   "source": [
    "#===Numero de filas y columnas ===\n",
    "df.shape #9800 filas, 17 columnas"
   ]
  },
  {
   "cell_type": "code",
   "execution_count": 10,
   "id": "19584ae9",
   "metadata": {},
   "outputs": [
    {
     "data": {
      "text/plain": [
       "1849"
      ]
     },
     "execution_count": 10,
     "metadata": {},
     "output_type": "execute_result"
    }
   ],
   "source": [
    "#===Explorando datos categoricos y registros unicos ===\n",
    "df[\"Ship Mode\"].unique() #'Second Class', 'Standard Class', 'First Class', 'Same Day'2\n",
    "df.Segment.unique() #'Consumer', 'Corporate', 'Home Office'\n",
    "df.Country.unique() #'United States'\n",
    "len(df.City.unique()) #529 registros\n",
    "df.State.unique() #49 registros\n",
    "df.Region.unique() #'South', 'West', 'Central', 'East'\n",
    "df.Category.unique() #Furniture', 'Office Supplies', 'Technology'\n",
    "len(df[\"Sub-Category\"].unique()) #17 registros\n",
    "len(list(df[\"Product Name\"].unique())) #1849 productos"
   ]
  },
  {
   "cell_type": "code",
   "execution_count": 15,
   "id": "944c215d",
   "metadata": {},
   "outputs": [
    {
     "name": "stdout",
     "output_type": "stream",
     "text": [
      "index =181 , value= ImationÂ Secure+ Hardware Encrypted USB 2.0Â Flash Drive\n",
      "index =430 , value= ImationÂ Secure+ Hardware Encrypted USB 2.0Â Flash Drive\n",
      "index =431 , value= ImationÂ Secure+ Hardware Encrypted USB 2.0Â Flash Drive\n",
      "index =1406 , value= ImationÂ Secure+ Hardware Encrypted USB 2.0Â Flash Drive\n",
      "index =1969 , value= ImationÂ Secure+ Hardware Encrypted USB 2.0Â Flash Drive\n",
      "index =1971 , value= ImationÂ Secure+ Hardware Encrypted USB 2.0Â Flash Drive\n"
     ]
    }
   ],
   "source": [
    "#=== Revisando si hay datos de texto en campos numerico (sales) ===\n",
    "\n",
    "#Itera y comprueba si hay letras en el campo sales(type=int)\n",
    "for index, row in df.iterrows():\n",
    "    venta = row['Sales']\n",
    "    row_id = index\n",
    "    if re.search(r'[a-zA-Z]', str(venta)): #Busca registros con coincidencias de letras\n",
    "        print(f\"index ={row_id} , value= {venta}\")"
   ]
  },
  {
   "cell_type": "code",
   "execution_count": 16,
   "id": "2131795e",
   "metadata": {},
   "outputs": [
    {
     "data": {
      "text/plain": [
       "Row ID           0.0\n",
       "Order ID         0.0\n",
       "Order Date       0.0\n",
       "Ship Date        0.0\n",
       "Ship Mode        0.0\n",
       "Customer ID      0.0\n",
       "Customer Name    0.0\n",
       "Segment          0.0\n",
       "Country          0.0\n",
       "City             0.0\n",
       "State            0.0\n",
       "Postal Code      0.0\n",
       "Region           0.0\n",
       "Product ID       0.0\n",
       "Category         0.0\n",
       "Sub-Category     0.0\n",
       "Product Name     0.0\n",
       "Sales            0.0\n",
       "dtype: float64"
      ]
     },
     "execution_count": 16,
     "metadata": {},
     "output_type": "execute_result"
    }
   ],
   "source": [
    "#=== % de valores nulos===\n",
    "df.isnull().sum()*100 / len(df)"
   ]
  },
  {
   "cell_type": "code",
   "execution_count": 18,
   "id": "35e3ad38",
   "metadata": {},
   "outputs": [],
   "source": [
    "#===Guardado de dataframe extracción en archivo pickle ===\n",
    "df.to_pickle('extracción.pkl')"
   ]
  },
  {
   "cell_type": "markdown",
   "id": "1ff9d9a1",
   "metadata": {},
   "source": [
    "<p style=\"font-size:19px; color:blue\">📌Nota: </p>\n",
    "\n",
    "\n",
    "- No se encontrarón registros nulos en los datos\n",
    "\n",
    "- Los registros no presentan ninguna incosistencia(fallas ortograficas)\n",
    "\n",
    "- Se detecto que en el indice 181,430,431,1406,1969,1971 en el campo venta hay registros que no concuerdan como venta \"ImationÂ Secure+ Hardware Encrypted USB 2.0Â Flash Drive\"\n",
    "\n",
    "\n",
    "- Los datos son todo del tipo object, lo cual hay que corregir porque hay datos que deben ser tipo fecha y numero (Ventas, fecha de entrega, etc).\n",
    "\n",
    "- Los nombres de columnas se podrian cambiar para mejor entendimiento del campo."
   ]
  }
 ],
 "metadata": {
  "kernelspec": {
   "display_name": "Python 3 (ipykernel)",
   "language": "python",
   "name": "python3"
  },
  "language_info": {
   "codemirror_mode": {
    "name": "ipython",
    "version": 3
   },
   "file_extension": ".py",
   "mimetype": "text/x-python",
   "name": "python",
   "nbconvert_exporter": "python",
   "pygments_lexer": "ipython3",
   "version": "3.10.9"
  }
 },
 "nbformat": 4,
 "nbformat_minor": 5
}
